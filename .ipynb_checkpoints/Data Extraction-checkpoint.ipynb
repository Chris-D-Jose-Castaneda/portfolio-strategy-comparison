{
 "cells": [
  {
   "cell_type": "markdown",
   "id": "9237d4d3-a37f-43a5-ab81-573164e113a3",
   "metadata": {},
   "source": [
    "# Index‑Options Risk Snapshot with Polygon.io\n",
    "\n",
    "This notebook shows how to pull live **Greeks, implied volatility (IV), open‑interest, and price data** for **index options** (e.g., SPX, NDX, RUT, VIX) from the Polygon.io REST API and aggregate basic portfolio‑level risk measures.\n",
    "\n",
    "**What you’ll learn**\n",
    "\n",
    "1. How to query the **Option‑Chain Snapshot** endpoint for index underlyings (prefix `I:` per Polygon’s convention).  \n",
    "2. How to normalise the JSON into a Pandas DataFrame.  \n",
    "3. How to compute quick aggregate exposures—Δ, Γ, Θ, and ν (vega)—for an illustrative portfolio (here we assume **one contract per option**; multiply by your own position sizes).  \n",
    "\n",
    "> **Prerequisites**  \n",
    "> * A live Polygon.io key (`POLYGON_API_KEY` environment variable or paste directly).  \n",
    "> * `pandas`, `requests`, and (optionally) `pyarrow` for feather/Parquet export.\n",
    "\n",
    "> **Endpoint used**: `/v3/snapshot/options/{underlying}` (returns price, Greeks, IV, OI, quotes & trades) :contentReference[oaicite:0]{index=0}\n"
   ]
  },
  {
   "cell_type": "code",
   "execution_count": 68,
   "id": "3df67fb5-1f0d-4528-a6ea-555e3163c661",
   "metadata": {},
   "outputs": [],
   "source": [
    "import yfinance as yf\n",
    "import pandas as pd\n",
    "import numpy as np\n",
    "from scipy.stats import norm\n",
    "import matplotlib.pyplot as plt"
   ]
  },
  {
   "cell_type": "code",
   "execution_count": 74,
   "id": "6f9da1df-7936-4616-8f48-d5c9e799bc62",
   "metadata": {},
   "outputs": [
    {
     "name": "stderr",
     "output_type": "stream",
     "text": [
      "Fetching snapshots: 100%|██████████████████████████████████████████████████████████| 3851/3851 [20:57<00:00,  3.06it/s]\n"
     ]
    },
    {
     "name": "stdout",
     "output_type": "stream",
     "text": [
      "✅ Wrote 107000 rows to SPX_options_reference_chain_20150101_20250717.csv\n"
     ]
    }
   ],
   "source": [
    "import requests\n",
    "import pandas as pd\n",
    "from datetime import datetime, timedelta\n",
    "from tqdm import tqdm\n",
    "\n",
    "# ─── 1) CONFIG ────────────────────────────────────────────────────────────────\n",
    "API_KEY    = \"6f7zlNdhVy_4zN7ZZHSBLCwHv4cD6Ftw\"\n",
    "START_DATE = datetime(2015, 1, 1)\n",
    "END_DATE   = datetime(2025, 7, 17)\n",
    "OUTPUT_CSV = \"SPX_options_reference_chain_20150101_20250717.csv\"\n",
    "\n",
    "# ─── 2) HELPER TO FETCH CONTRACTS ─────────────────────────────────────────────\n",
    "def fetch_contracts_as_of(date_str: str, api_key: str):\n",
    "    \"\"\"\n",
    "    Returns a list of contract dicts for SPX active on `date_str`.\n",
    "    Uses the V3 /reference/options/contracts endpoint.\n",
    "    \"\"\"\n",
    "    url = \"https://api.polygon.io/v3/reference/options/contracts\"\n",
    "    params = {\n",
    "        \"underlying_ticker\": \"SPX\",\n",
    "        \"as_of\": date_str,\n",
    "        \"limit\": 1000,\n",
    "        \"apiKey\": api_key\n",
    "    }\n",
    "    all_results = []\n",
    "    while url:\n",
    "        resp = requests.get(url, params=params).json()\n",
    "        all_results.extend(resp.get(\"results\", []))\n",
    "        url = resp.get(\"next_url\")  # if present, continues pagination\n",
    "        params = None  # next_url already contains the apiKey\n",
    "    return all_results\n",
    "\n",
    "# ─── 3) LOOP OVER DATES AND BUILD DATAFRAME ──────────────────────────────────\n",
    "rows = []\n",
    "current = START_DATE\n",
    "pbar = tqdm(total=(END_DATE - START_DATE).days + 1, desc=\"Fetching snapshots\")\n",
    "while current <= END_DATE:\n",
    "    date_str = current.strftime(\"%Y-%m-%d\")\n",
    "    try:\n",
    "        contracts = fetch_contracts_as_of(date_str, API_KEY)\n",
    "    except Exception as e:\n",
    "        print(f\"⚠️  {date_str}: {e}\")\n",
    "        current += timedelta(days=1)\n",
    "        pbar.update(1)\n",
    "        continue\n",
    "\n",
    "    for c in contracts:\n",
    "        # c[\"ticker\"] is the contract symbol on this endpoint\n",
    "        rows.append({\n",
    "            \"snapshot_date\":    date_str,\n",
    "            \"contract_symbol\":  c[\"ticker\"],           # <-- use 'ticker'\n",
    "            \"underlying_ticker\":c[\"underlying_ticker\"],\n",
    "            \"expiration_date\":  c[\"expiration_date\"],\n",
    "            \"strike_price\":     c[\"strike_price\"],\n",
    "            \"option_type\":      c[\"contract_type\"],\n",
    "        })\n",
    "\n",
    "    current += timedelta(days=1)\n",
    "    pbar.update(1)\n",
    "\n",
    "pbar.close()\n",
    "\n",
    "# ─── 4) SAVE TO CSV ───────────────────────────────────────────────────────────\n",
    "df = pd.DataFrame(rows)\n",
    "df.to_csv(OUTPUT_CSV, index=False)\n",
    "print(f\"✅ Wrote {len(df)} rows to {OUTPUT_CSV}\")\n"
   ]
  },
  {
   "cell_type": "code",
   "execution_count": 80,
   "id": "31da47c3-f712-4cb0-8f62-db0ea554f29b",
   "metadata": {},
   "outputs": [
    {
     "name": "stderr",
     "output_type": "stream",
     "text": [
      "Fetching SPX snapshots: 100%|██████████████████████████████████████████████████████| 3852/3852 [19:56<00:00,  3.22it/s]\n"
     ]
    },
    {
     "name": "stdout",
     "output_type": "stream",
     "text": [
      "✅ Wrote 199000 rows to SPX_options_reference_chain_20150101_20250718.csv\n"
     ]
    }
   ],
   "source": [
    "\n",
    "# %% [code]\n",
    "import requests\n",
    "import pandas as pd\n",
    "from datetime import datetime, timedelta\n",
    "from tqdm import tqdm\n",
    "\n",
    "# ─── 1) CONFIGURATION ────────────────────────────────────────────────────────\n",
    "API_KEY    = \"6f7zlNdhVy_4zN7ZZHSBLCwHv4cD6Ftw\"  # replace with your key\n",
    "START_DATE = datetime(2015, 1, 1)\n",
    "END_DATE   = datetime(2025, 7, 18)      # inclusive end date\n",
    "OUTPUT_CSV = \"SPX_options_reference_chain_20150101_20250718.csv\"\n",
    "\n",
    "# ─── 2) HELPER FUNCTION ─────────────────────────────────────────────────────\n",
    "def fetch_contracts_as_of(date_str: str, api_key: str) -> list:\n",
    "    \"\"\"\n",
    "    Fetches all SPX option contracts active on `date_str` using Polygon V3.\n",
    "    Handles pagination automatically.\n",
    "    \"\"\"\n",
    "    url = \"https://api.polygon.io/v3/reference/options/contracts\"\n",
    "    params = {\n",
    "        \"underlying_ticker\": \"SPX\",\n",
    "        \"as_of\": date_str,\n",
    "        \"limit\": 1000,\n",
    "        \"apiKey\": api_key\n",
    "    }\n",
    "    all_results = []\n",
    "    while url:\n",
    "        resp = requests.get(url, params=params).json()\n",
    "        all_results.extend(resp.get(\"results\", []))\n",
    "        url = resp.get(\"next_url\")    # next_url already contains apiKey\n",
    "        params = None                  # clear params for subsequent pages\n",
    "    return all_results\n",
    "\n",
    "# ─── 3) MAIN LOOP: BUILD SNAPSHOT ROWS ──────────────────────────────────────\n",
    "rows = []\n",
    "current = START_DATE\n",
    "pbar = tqdm(total=(END_DATE - START_DATE).days + 1, desc=\"Fetching SPX snapshots\")\n",
    "\n",
    "while current <= END_DATE:\n",
    "    date_str = current.strftime(\"%Y-%m-%d\")\n",
    "    try:\n",
    "        contracts = fetch_contracts_as_of(date_str, API_KEY)\n",
    "    except Exception as e:\n",
    "        print(f\"⚠️ {date_str}: {e}\")\n",
    "        current += timedelta(days=1)\n",
    "        pbar.update(1)\n",
    "        continue\n",
    "\n",
    "    for c in contracts:\n",
    "        rows.append({\n",
    "            \"snapshot_date\":    date_str,\n",
    "            \"contract_symbol\":  c.get(\"ticker\"),         # option symbol\n",
    "            \"underlying_ticker\":c.get(\"underlying_ticker\"),\n",
    "            \"expiration_date\":  c.get(\"expiration_date\"),\n",
    "            \"strike_price\":     c.get(\"strike_price\"),\n",
    "            \"option_type\":      c.get(\"contract_type\"),   # call / put\n",
    "            \"exercise_style\":   c.get(\"exercise_style\"),  # American / European\n",
    "            \"multiplier\":       c.get(\"multiplier\"),      # contract multiplier\n",
    "            \"expiration_type\":  c.get(\"expiration_type\"), # regular / weekly\n",
    "            \"listing_date\":     c.get(\"listing_date\"),    # first listing\n",
    "            \"updated_at\":       c.get(\"updated_at\"),      # last metadata update\n",
    "            \"active\":           c.get(\"active\")           # currently active?\n",
    "        })\n",
    "\n",
    "    current += timedelta(days=1)\n",
    "    pbar.update(1)\n",
    "\n",
    "pbar.close()\n",
    "\n",
    "# ─── 4) SAVE TO CSV ─────────────────────────────────────────────────────────\n",
    "df = pd.DataFrame(rows)\n",
    "df.to_csv(OUTPUT_CSV, index=False)\n",
    "print(f\"✅ Wrote {len(df)} rows to {OUTPUT_CSV}\")\n"
   ]
  },
  {
   "cell_type": "code",
   "execution_count": null,
   "id": "8974bf44-0635-44e5-bce9-96258e66b724",
   "metadata": {},
   "outputs": [],
   "source": []
  }
 ],
 "metadata": {
  "kernelspec": {
   "display_name": "Python [conda env:base] *",
   "language": "python",
   "name": "conda-base-py"
  },
  "language_info": {
   "codemirror_mode": {
    "name": "ipython",
    "version": 3
   },
   "file_extension": ".py",
   "mimetype": "text/x-python",
   "name": "python",
   "nbconvert_exporter": "python",
   "pygments_lexer": "ipython3",
   "version": "3.12.7"
  }
 },
 "nbformat": 4,
 "nbformat_minor": 5
}
